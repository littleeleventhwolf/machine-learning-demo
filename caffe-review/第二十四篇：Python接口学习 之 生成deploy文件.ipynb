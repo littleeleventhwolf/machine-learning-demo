{
 "cells": [
  {
   "cell_type": "markdown",
   "metadata": {},
   "source": [
    "# Caffe的Python接口学习(5)：生成deploy文件\n",
    "\n",
    "如果要把训练好的模型拿来测试新的图片，那必须得有一个deploy.prototxt文件，这个文件实际上和test.prototxt文件差不多，只是头尾不相同而已。deploy文件没有第一层数据输入层，也没有最后的Accuracy层，但最后多了一个Softmax概率层。\n",
    "\n",
    "这里我们采用代码的方式来自动生成该文件，以mnist为例。\n",
    "\n",
    "deploy.py：\n",
    "``` python\n",
    "# -*- coding: utf-8 -*-\n",
    "\n",
    "from caffe import layers as L, params as P, to_proto\n",
    "\n",
    "root = '/root/Repository/caffe/examples/mine/'\n",
    "deploy = root + 'mnist/deploy.prototxt' # 文件保存路径\n",
    "\n",
    "def create_deploy():\n",
    "    # 少了第一层：data层\n",
    "    conv1 = L.Convolution(bottom='data', kernel_size=5, stride=1, num_output=20, pad=0, \n",
    "                          weight_filler=dict(type='xavier'))\n",
    "    pool1 = L.Pooling(conv1, pool=P.Pooling.MAX, kernel_size=2, stride=2)\n",
    "    conv2 = L.Convolution(pool1, kernel_size=5, stride=1, num_output=50, pad=0, \n",
    "                          weight_filler=dict(type='xavier'))\n",
    "    pool2 = L.Pooling(conv2, pool=P.Pooling.MAX, kernel_size=2, stride=2)\n",
    "    fc3 = L.InnerProduct(pool2, num_output=500, weight_filler=dict(type='xavier'))\n",
    "    relu3 = L.ReLU(fc3, in_place=True)\n",
    "    fc4 = L.InnerProduct(relu3, num_output=10, weight_filler=dict(type='xavier'))\n",
    "    # 没有最后的accuracy层，但有一个Softmax层\n",
    "    prob = L.Softmax(fc4)\n",
    "    return to_proto(prob)\n",
    "\n",
    "def write_deploy():\n",
    "    with open(deploy, 'w') as f:\n",
    "        f.write('name: \"LeNet\"\\n')\n",
    "        f.write('input: \"data\"\\n')\n",
    "        f.write('input_dim: 1\\n')\n",
    "        f.write('input_dim: 3\\n')\n",
    "        f.write('input_dim: 28\\n')\n",
    "        f.write('input_dim: 28\\n')\n",
    "        f.write(str(create_deploy()))\n",
    "        \n",
    "if __name__ == '__main__':\n",
    "    write_deploy()\n",
    "```\n",
    "\n",
    "运行该文件后，会在mnist目录下，生成一个deploy.prototxt文件。\n",
    "\n",
    "这个文件不推荐使用代码来生成，反而麻烦。大家熟悉以后可以将test.prototxt复制一份，修改相应的地方就可以了，更加方便。"
   ]
  }
 ],
 "metadata": {
  "kernelspec": {
   "display_name": "Python 2",
   "language": "python",
   "name": "python2"
  },
  "language_info": {
   "codemirror_mode": {
    "name": "ipython",
    "version": 2
   },
   "file_extension": ".py",
   "mimetype": "text/x-python",
   "name": "python",
   "nbconvert_exporter": "python",
   "pygments_lexer": "ipython2",
   "version": "2.7.13"
  }
 },
 "nbformat": 4,
 "nbformat_minor": 2
}
