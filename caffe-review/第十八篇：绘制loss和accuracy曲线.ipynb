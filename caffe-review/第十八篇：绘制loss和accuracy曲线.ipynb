{
 "cells": [
  {
   "cell_type": "markdown",
   "metadata": {},
   "source": [
    "# Caffe学习系列：绘制loss和accuracy曲线\n",
    "\n",
    "如同前几篇的可视化，这里采用的也是jupyter notebook来进行曲线绘制。"
   ]
  },
  {
   "cell_type": "code",
   "execution_count": 1,
   "metadata": {},
   "outputs": [],
   "source": [
    "# 加载必要的库\n",
    "import numpy as np\n",
    "import matplotlib.pyplot as plt\n",
    "%matplotlib inline\n",
    "import sys, os, caffe\n",
    "# 设置当前目录\n",
    "caffe_root = '/root/Repository/caffe/'\n",
    "sys.path.insert(0, caffe_root + 'python')\n",
    "os.chdir(caffe_root)"
   ]
  },
  {
   "cell_type": "markdown",
   "metadata": {},
   "source": [
    "设置求解器，和c++/caffe一样，需要一个solver配置文件。"
   ]
  },
  {
   "cell_type": "code",
   "execution_count": 2,
   "metadata": {},
   "outputs": [],
   "source": [
    "# set the solver prototxt\n",
    "solver = caffe.SGDSolver('examples/cifar10/cifar10_quick_solver.prototxt')"
   ]
  },
  {
   "cell_type": "markdown",
   "metadata": {},
   "source": [
    "如果不需要绘制曲线，只需要训练出一个caffemodel，直接调用solver.solve()就可以了。如果要绘制曲线，就需要把迭代过程中的值保存下来，因此不能直接调用solver.solve()，需要迭代。在迭代过程中，每迭代200次测试一次："
   ]
  },
  {
   "cell_type": "code",
   "execution_count": 3,
   "metadata": {},
   "outputs": [
    {
     "name": "stdout",
     "output_type": "stream",
     "text": [
      "('Iteration ', 0, ' testing... ', 'accuracy: ', array(0.19, dtype=float32))\n",
      "('Iteration ', 200, ' testing... ', 'accuracy: ', array(0.33, dtype=float32))\n",
      "('Iteration ', 400, ' testing... ', 'accuracy: ', array(0.45, dtype=float32))\n",
      "('Iteration ', 600, ' testing... ', 'accuracy: ', array(0.56, dtype=float32))\n",
      "('Iteration ', 800, ' testing... ', 'accuracy: ', array(0.58, dtype=float32))\n",
      "('Iteration ', 1000, ' testing... ', 'accuracy: ', array(0.64, dtype=float32))\n",
      "('Iteration ', 1200, ' testing... ', 'accuracy: ', array(0.61, dtype=float32))\n",
      "('Iteration ', 1400, ' testing... ', 'accuracy: ', array(0.6, dtype=float32))\n",
      "('Iteration ', 1600, ' testing... ', 'accuracy: ', array(0.68, dtype=float32))\n",
      "('Iteration ', 1800, ' testing... ', 'accuracy: ', array(0.68, dtype=float32))\n",
      "('Iteration ', 2000, ' testing... ', 'accuracy: ', array(0.7, dtype=float32))\n",
      "('Iteration ', 2200, ' testing... ', 'accuracy: ', array(0.63, dtype=float32))\n",
      "('Iteration ', 2400, ' testing... ', 'accuracy: ', array(0.64, dtype=float32))\n",
      "('Iteration ', 2600, ' testing... ', 'accuracy: ', array(0.66, dtype=float32))\n",
      "('Iteration ', 2800, ' testing... ', 'accuracy: ', array(0.72, dtype=float32))\n",
      "('Iteration ', 3000, ' testing... ', 'accuracy: ', array(0.7, dtype=float32))\n",
      "('Iteration ', 3200, ' testing... ', 'accuracy: ', array(0.66, dtype=float32))\n",
      "('Iteration ', 3400, ' testing... ', 'accuracy: ', array(0.64, dtype=float32))\n",
      "('Iteration ', 3600, ' testing... ', 'accuracy: ', array(0.67, dtype=float32))\n",
      "('Iteration ', 3800, ' testing... ', 'accuracy: ', array(0.71, dtype=float32))\n",
      "CPU times: user 29min 24s, sys: 358 ms, total: 29min 25s\n",
      "Wall time: 29min 33s\n"
     ]
    }
   ],
   "source": [
    "%%time\n",
    "niter = 4000\n",
    "test_interval = 200\n",
    "train_loss = np.zeros(niter)\n",
    "test_acc = np.zeros(int(np.ceil(niter / test_interval)))\n",
    "\n",
    "# the main solver loop\n",
    "for it in range(niter):\n",
    "    solver.step(1) # SGD by Caffe\n",
    "    \n",
    "    # store the train loss\n",
    "    train_loss[it] = solver.net.blobs['loss'].data\n",
    "    solver.test_nets[0].forward(start='conv1')\n",
    "    \n",
    "    if it % test_interval == 0:\n",
    "        acc = solver.test_nets[0].blobs['accuracy'].data\n",
    "        print('Iteration ', it , ' testing... ', 'accuracy: ', acc)\n",
    "        test_acc[it // test_interval] = acc"
   ]
  },
  {
   "cell_type": "markdown",
   "metadata": {},
   "source": [
    "绘制train过程中的loss曲线，和测试过程中的accuracy曲线。"
   ]
  },
  {
   "cell_type": "code",
   "execution_count": 4,
   "metadata": {},
   "outputs": [
    {
     "name": "stdout",
     "output_type": "stream",
     "text": [
      "[0.19       0.33000001 0.44999999 0.56       0.57999998 0.63999999\n",
      " 0.61000001 0.60000002 0.68000001 0.68000001 0.69999999 0.63\n",
      " 0.63999999 0.66000003 0.72000003 0.69999999 0.66000003 0.63999999\n",
      " 0.67000002 0.70999998]\n"
     ]
    },
    {
     "data": {
      "text/plain": [
       "Text(0,0.5,u'test accuracy')"
      ]
     },
     "execution_count": 4,
     "metadata": {},
     "output_type": "execute_result"
    },
    {
     "data": {
      "image/png": "[encoded data removed]",
      "text/plain": [
       "<matplotlib.figure.Figure at 0x7f4dd050d750>"
      ]
     },
     "metadata": {},
     "output_type": "display_data"
    }
   ],
   "source": [
    "print(test_acc)\n",
    "_, ax1 = plt.subplots()\n",
    "ax2 = ax1.twinx()\n",
    "ax1.plot(np.arange(niter), train_loss)\n",
    "ax2.plot(test_interval * np.arange(len(test_acc)), test_acc, 'r')\n",
    "ax1.set_xlabel('iteration')\n",
    "ax1.set_ylabel('train loss')\n",
    "ax2.set_ylabel('test accuracy')"
   ]
  }
 ],
 "metadata": {
  "kernelspec": {
   "display_name": "Python 2",
   "language": "python",
   "name": "python2"
  },
  "language_info": {
   "codemirror_mode": {
    "name": "ipython",
    "version": 2
   },
   "file_extension": ".py",
   "mimetype": "text/x-python",
   "name": "python",
   "nbconvert_exporter": "python",
   "pygments_lexer": "ipython2",
   "version": "2.7.13"
  }
 },
 "nbformat": 4,
 "nbformat_minor": 2
}
