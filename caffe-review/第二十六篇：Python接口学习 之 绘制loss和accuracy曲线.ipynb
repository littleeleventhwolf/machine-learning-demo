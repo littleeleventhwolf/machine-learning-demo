{
 "cells": [
  {
   "cell_type": "markdown",
   "metadata": {},
   "source": [
    "# Caffe的Python接口学习(7)：绘制loss和accuracy曲线\n",
    "\n",
    "使用python接口来运行caffe程序，主要的原因是python非常容易可视化。所以不推荐大家在命令行下面运行python程序。如果非要在命令行下面运行，哈不如直接用C++算了。\n",
    "\n",
    "推荐使用jupyter notebook，spyder等工具来运行python代码，这样才和它的可视化完美结合起来。\n",
    "\n",
    "首先介绍spyder，与Matlab界面类似的一款编辑器，在运行过程中，可以查看各变量的值，便于理解，如下图：\n",
    "\n",
    "![spyder界面显示](./26-attach/spyder.jpg)\n",
    "\n",
    "直接在终端输入spyder命令就可以了。\n",
    "\n",
    "在caffe的训练过程中，我们如果想知道某个阶段的loss值和accuracy值，并用图表画出来，用python接口就对了。"
   ]
  },
  {
   "cell_type": "code",
   "execution_count": 7,
   "metadata": {},
   "outputs": [
    {
     "name": "stdout",
     "output_type": "stream",
     "text": [
      "\n",
      "plot the train loss and test accuracy\n",
      "\n"
     ]
    },
    {
     "data": {
      "image/png": "[encoded data removed]",
      "text/plain": [
       "<matplotlib.figure.Figure at 0x7f3b9e649e10>"
      ]
     },
     "metadata": {},
     "output_type": "display_data"
    }
   ],
   "source": [
    "# -*- coding: utf-8 -*-\n",
    "\n",
    "import matplotlib.pyplot as plt\n",
    "%matplotlib inline\n",
    "import caffe\n",
    "import numpy as np\n",
    "from math import ceil\n",
    "\n",
    "# caffe.set_device(0)\n",
    "# caffe.set_mode_gpu()\n",
    "\n",
    "# 使用SGDSolver，即随机梯度下降算法\n",
    "solver = caffe.SGDSolver('/root/Repository/caffe/examples/mine/mnist/solver.prototxt')\n",
    "\n",
    "# 等价于solver文件中的max_iter，即最大解算次数\n",
    "niter = 9380\n",
    "# 每隔100次收集一次数据\n",
    "display = 100\n",
    "\n",
    "# 每次测试进行100次解算，10000/100\n",
    "test_iter = 100\n",
    "# 每一个epoch进行一次测试，60000/64\n",
    "test_interval = 938\n",
    "\n",
    "# 初始化\n",
    "train_loss = np.zeros(int(ceil(niter * 1.0 / display)))\n",
    "test_loss = np.zeros(int(ceil(niter * 1.0 / test_interval)))\n",
    "test_acc = np.zeros(int(ceil(niter * 1.0 / test_interval)))\n",
    "\n",
    "# iteration 0, 不计入\n",
    "solver.step(1)\n",
    "\n",
    "# 辅助变量\n",
    "_train_loss = 0; _test_loss = 0; _accuracy = 0\n",
    "# 进行解算\n",
    "for it in range(niter):\n",
    "    # 进行一次解算\n",
    "    solver.step(1)\n",
    "    # 每迭代一次，训练batch_size张图片\n",
    "    _train_loss += solver.net.blobs['SoftmaxWithLoss1'].data\n",
    "    if it % display == 0:\n",
    "        # 计算平均train_loss\n",
    "        train_loss[it // display] = _train_loss / display\n",
    "        _train_loss = 0\n",
    "        \n",
    "    if it % test_interval == 0:\n",
    "        for test_it in range(test_iter):\n",
    "            # 进行一次测试\n",
    "            solver.test_nets[0].forward()\n",
    "            # 计算test loss\n",
    "            _test_loss += solver.test_nets[0].blobs['SoftmaxWithLoss1'].data\n",
    "            # 计算test accuray\n",
    "            _accuracy += solver.test_nets[0].blobs['Accuracy1'].data\n",
    "        # 计算平均test loss\n",
    "        test_loss[it / test_interval] = _test_loss / test_iter\n",
    "        # 计算平均test accuracy\n",
    "        test_acc[it / test_interval] = _accuracy / test_iter\n",
    "        _test_loss = 0\n",
    "        _accuracy = 0\n",
    "        \n",
    "# 绘制train loss、test loss和accuracy曲线\n",
    "print('\\nplot the train loss and test accuracy\\n')\n",
    "_, ax1 = plt.subplots()\n",
    "ax2 = ax1.twinx()\n",
    "\n",
    "# train loss -> 绿色\n",
    "ax1.plot(display * np.arange(len(train_loss)), train_loss, 'g')\n",
    "# test loss -> 黄色\n",
    "ax1.plot(test_interval * np.arange(len(test_loss)), test_loss, 'y')\n",
    "# test accuracy -> 红色\n",
    "ax2.plot(test_interval * np.arange(len(test_acc)), test_acc, 'r')\n",
    "\n",
    "ax1.set_xlabel('iteration')\n",
    "ax1.set_ylabel('loss')\n",
    "ax2.set_ylabel('accuracy')\n",
    "plt.show()"
   ]
  }
 ],
 "metadata": {
  "kernelspec": {
   "display_name": "Python 2",
   "language": "python",
   "name": "python2"
  },
  "language_info": {
   "codemirror_mode": {
    "name": "ipython",
    "version": 2
   },
   "file_extension": ".py",
   "mimetype": "text/x-python",
   "name": "python",
   "nbconvert_exporter": "python",
   "pygments_lexer": "ipython2",
   "version": "2.7.13"
  }
 },
 "nbformat": 4,
 "nbformat_minor": 2
}
