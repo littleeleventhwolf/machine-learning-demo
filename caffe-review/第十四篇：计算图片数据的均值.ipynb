{
 "cells": [
  {
   "cell_type": "markdown",
   "metadata": {},
   "source": [
    "# Caffe学习系列：计算图片数据的均值\n",
    "\n",
    "图片减去均值后，再进行训练和测试，会提高速度和精度。因此，一般在各种模型中都会有这个操作。\n",
    "\n",
    "那么这个均值怎么来的呢，实际上就是计算所有训练样本的平均值，计算出来后，保存为一个均值文件，在以后的测试中，就可以直接使用这个均值来相减，而不需要对测试图片重新计算。\n",
    "\n",
    "## 一、二进制格式的均值计算\n",
    "\n",
    "Caffe中使用的均值数据格式是binaryproto，作者为我们提供了一个计算均值的文件compute_image_mean.cpp，放在根目录下的tools文件夹里面。编译后的可执行体放在build/tools/下面，我们直接调用就可以了：\n",
    "``` shell\n",
    "sudo build/tools/compute_image_mean examples/mnist/mnist_train_lmdb examples/mnist/mean.binaryproto\n",
    "```\n",
    "带两个参数：\n",
    "\n",
    "第一个参数：examples/mnist/mnist_train_lmdb，表示需要计算均值的数据，格式为lmdb的训练数据。\n",
    "\n",
    "第二个参数：examples/mnist/mean.binaryproto，计算出来的结果保存文件。\n",
    "\n",
    "## 二、Python格式的均值计算\n",
    "\n",
    "如果我们要使用Python接口，或者我们要进行特征可视化，可能就要用到Python格式的均值文件了。首先，我们用lmdb格式的数据，计算出二进制格式的均值，然后再转换成Python格式的均值。\n",
    "\n",
    "我们可以编写一个Python脚本来实现：\n",
    "``` python\n",
    "#!/usr/bin/env python\n",
    "import numpy as np\n",
    "import sys, caffe\n",
    "\n",
    "if len(sys.argv) != 3:\n",
    "    print(\"Usage: python convert_mean.py mean.binaryproto mean.npy\")\n",
    "    sys.exit()\n",
    "    \n",
    "blob = caffe.proto.caffe_pb2.BlobProto()\n",
    "bin_mean = open(sys.argv[1], 'rb').read()\n",
    "blob.ParseFromString(bin_mean)\n",
    "arr = np.array(caffe.io.blobproto_to_array(blob))\n",
    "npy_mean = arr[0]\n",
    "np.save(sys.argv[2], npy_mean)\n",
    "```\n",
    "这个脚本保存为convert_mean.py，调用格式为：\n",
    "``` shell\n",
    "sudo python convert_mean.py mean.binaryproto mean.npy\n",
    "```\n",
    "其中mean.binaryproto就是经过前面步骤计算出来的二进制均值。mean.npy就是我们需要的Python格式的均值。"
   ]
  }
 ],
 "metadata": {
  "kernelspec": {
   "display_name": "Python 2",
   "language": "python",
   "name": "python2"
  },
  "language_info": {
   "codemirror_mode": {
    "name": "ipython",
    "version": 2
   },
   "file_extension": ".py",
   "mimetype": "text/x-python",
   "name": "python",
   "nbconvert_exporter": "python",
   "pygments_lexer": "ipython2",
   "version": "2.7.13"
  }
 },
 "nbformat": 4,
 "nbformat_minor": 2
}
