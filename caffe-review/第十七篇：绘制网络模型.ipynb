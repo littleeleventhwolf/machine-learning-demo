{
 "cells": [
  {
   "cell_type": "markdown",
   "metadata": {},
   "source": [
    "# Caffe学习系列：绘制网络模型\n",
    "\n",
    "python/draw_net.py：这个文件，就是用来绘制网络模型的，也就是将网络模型由prototxt变成一张图片。\n",
    "\n",
    "在绘制之前，需要先安装两个库：\n",
    "\n",
    "1、安装GraphViz\n",
    "\n",
    "Ubuntu下的命令：\n",
    "``` shell\n",
    "sudo apt-get install GraphViz\n",
    "```\n",
    "\n",
    "CentOS下的命令：\n",
    "``` shell\n",
    "yum install graphviz\n",
    "```\n",
    "\n",
    "2、安装pydot\n",
    "\n",
    "```\n",
    "sudo pip install pydot\n",
    "```\n",
    "\n",
    "注意上面用的是pip来安装，而不是apt-get。\n",
    "\n",
    "安装好了之后，就可以调用脚本来绘制图片了。\n",
    "\n",
    "draw_net.py执行的时候带三个参数：\n",
    "\n",
    "第一个参数：网络模型的prototxt文件；\n",
    "\n",
    "第二个参数：保存的图片路径及名字；\n",
    "\n",
    "第三个参数：--rankdir=x，x有四种选项，分别是LR，RL，TB，BT。用来表示网络的方向，分别是从左到右，从右到左，从上到下，从下到上。默认为LR。\n",
    "\n",
    "例：绘制LeNet模型。\n",
    "``` shell\n",
    "sudo python python/draw_net.py examples/mnist/lenet_train_test.prototxt ../machine-learning-demo/caffe-review/17-attach/lenet.png --rankdir=BT\n",
    "```\n",
    "\n",
    "![LeNet网络](./17-attach/lenet.png)\n",
    "\n",
    "例：绘制cifar10的模型。\n",
    "``` shell\n",
    "sudo python python/draw_net.py examples/cifar10/cifar10_full_train_test.prototxt ../machine-learning-demo/caffe-review/17-attach/cifar10.png --rankdir=BT\n",
    "```\n",
    "\n",
    "![Cifar10网络](./17-attach/cifar10.png)"
   ]
  }
 ],
 "metadata": {
  "kernelspec": {
   "display_name": "Python 2",
   "language": "python",
   "name": "python2"
  },
  "language_info": {
   "codemirror_mode": {
    "name": "ipython",
    "version": 2
   },
   "file_extension": ".py",
   "mimetype": "text/x-python",
   "name": "python",
   "nbconvert_exporter": "python",
   "pygments_lexer": "ipython2",
   "version": "2.7.13"
  }
 },
 "nbformat": 4,
 "nbformat_minor": 2
}
