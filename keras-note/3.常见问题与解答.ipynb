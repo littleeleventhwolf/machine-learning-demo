{
 "cells": [
  {
   "cell_type": "markdown",
   "metadata": {},
   "source": [
    "# 常见问题与解答\n",
    "\n",
    "## 如何引用Keras？\n",
    "\n",
    "如果Keras对你的研究有帮助的话，请在你的文章中引用Keras。这里是一个使用BibTex的例子：\n",
    "```\n",
    "@misc{chollet2015keras,\n",
    "  author = {Chollet, François and others},\n",
    "  title = {Keras},\n",
    "  year = {2015},\n",
    "  publisher = {GitHub},\n",
    "  journal = {GitHub repository},\n",
    "  howpublished = {\\url{https://github.com/fchollet/keras}}\n",
    "}\n",
    "```\n",
    "\n",
    "## 如何使Keras调用GPU？\n",
    "\n",
    "如果采用Tensorflow作为后端，当机器上有可用的GPU时，代码会自动调用GPU进行并行计算。如果使用Theano作为后端，可以通过以下方法设置：\n",
    "\n",
    "方法1：使用Theano标记\n",
    "\n",
    "在执行Python脚本时使用下面的命令：\n",
    "``` shell\n",
    "THEANO_FLAGS=device=gpu,floatX=float32 python my_keras_script.py\n",
    "```\n",
    "\n",
    "方法2：设置.theanorc文件\n",
    "\n",
    "点击[这里](http://deeplearning.net/software/theano/library/config.html)查看指导教程。\n",
    "\n",
    "方法3：在代码的开头手动设置theano.config.device和theano.config.floatX：\n",
    "\n",
    "``` python\n",
    "import theano\n",
    "theano.config.device = 'gpu'\n",
    "theano.config.floatX = 'float32'\n",
    "```\n",
    "\n",
    "## 如何在多张GPU卡上使用Keras？\n",
    "\n"
   ]
  }
 ],
 "metadata": {
  "kernelspec": {
   "display_name": "Python 2",
   "language": "python",
   "name": "python2"
  },
  "language_info": {
   "codemirror_mode": {
    "name": "ipython",
    "version": 2
   },
   "file_extension": ".py",
   "mimetype": "text/x-python",
   "name": "python",
   "nbconvert_exporter": "python",
   "pygments_lexer": "ipython2",
   "version": "2.7.5"
  }
 },
 "nbformat": 4,
 "nbformat_minor": 2
}
