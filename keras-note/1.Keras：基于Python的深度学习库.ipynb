{
 "cells": [
  {
   "cell_type": "markdown",
   "metadata": {},
   "source": [
    "# Keras：基于Python的深度学习库\n",
    "\n",
    "## 这就是Keras\n",
    "\n",
    "Keras是一个高层神经网络API，Keras由纯Python编写而成并基于Tensorflow、Theano以及CNTK后端。Keras为支持快速实验而生，能够把你的idea迅速转换为结果，如果你有如下需求，请选择Keras：\n",
    "\n",
    "- 简易和快速的原型设计（Keras具有高度模块化，极简和可扩充特性）\n",
    "- 支持CNN和RNN，或二者的结合\n",
    "- 无缝CPU和GPU切换\n",
    "\n",
    "Keras适用的Python版本是：Python 2.7-3.6。\n",
    "\n",
    "Keras的设计原则是：\n",
    "\n",
    "- 用户友好：Keras是为人类而不是天顶星人设计的API。用户的使用体验始终是我们考虑的首要和中心内容。Keras遵循减少认知困难的最佳实践：Keras提供一致而简洁的API，能够极大减少一般应用下用户的工作量，同时，Keras提供清晰和具有实践意义的bug反馈。\n",
    "- 模块性：模型可理解为一个层的序列或数据的运算图，完全可配置的模块可以用最少的代价自由组合在一起。具体而言，网络层、损失函数、优化器、初始化策略、激活函数、正则化方法都是独立的模块，你可以使用它们来构建自己的模型。\n",
    "- 易扩展性：添加新模块超级容易，只需要仿照现有的模块编写新的类或函数即可。创建新模块的便利性使得Keras更适合于先进的研究工作。\n",
    "- 与Python协作：Keras没有单独的模型配置文件类型（作为对比，Caffe有），模型由Python代码描述，使其更紧凑和更易debug。并提供了扩展的便利性。\n",
    "\n"
   ]
  }
 ],
 "metadata": {
  "kernelspec": {
   "display_name": "Python 2",
   "language": "python",
   "name": "python2"
  },
  "language_info": {
   "codemirror_mode": {
    "name": "ipython",
    "version": 2
   },
   "file_extension": ".py",
   "mimetype": "text/x-python",
   "name": "python",
   "nbconvert_exporter": "python",
   "pygments_lexer": "ipython2",
   "version": "2.7.5"
  }
 },
 "nbformat": 4,
 "nbformat_minor": 2
}
